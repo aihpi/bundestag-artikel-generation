{
  "cells": [
    {
      "cell_type": "code",
      "execution_count": 1,
      "metadata": {
        "colab": {
          "base_uri": "https://localhost:8080/"
        },
        "id": "eMRVQa6yjyO9",
        "outputId": "e61b3b0d-2aee-4867-af58-d269a2623fbd"
      },
      "outputs": [
        {
          "name": "stdout",
          "output_type": "stream",
          "text": [
            "\u001b[33mWARNING: There was an error checking the latest version of pip.\u001b[0m\u001b[33m\n",
            "\u001b[0m"
          ]
        }
      ],
      "source": [
        "# Using Python 3.11\n",
        "!pip install --upgrade pip -q\n",
        "!pip install -r requirements.txt -q"
      ]
    },
    {
      "cell_type": "code",
      "execution_count": 5,
      "metadata": {
        "id": "y7uZx8aejc6Y"
      },
      "outputs": [],
      "source": [
        "import os\n",
        "from openai import OpenAI\n",
        "from dotenv import load_dotenv\n",
        "load_dotenv()\n",
        "openai_key = os.getenv('OPENAI_API_KEY')\n",
        "\n",
        "client = OpenAI(\n",
        "    api_key=openai_key,\n",
        ")"
      ]
    },
    {
      "cell_type": "code",
      "execution_count": 6,
      "metadata": {},
      "outputs": [],
      "source": [
        "from unstructured.partition.pdf import partition_pdf\n",
        "import glob\n",
        "import os\n",
        "import logging\n",
        "\n",
        "logging.basicConfig(level=logging.INFO, format='%(asctime)s - %(levelname)s - %(message)s')\n",
        "\n",
        "class DocumentPair:\n",
        "    def __init__(self, input_data, output_data):\n",
        "        self.input = input_data\n",
        "        self.output = output_data\n",
        "\n",
        "def read_pdf(file_path, languages=['deu']):\n",
        "    \"\"\"Read and process PDF file content.\"\"\"\n",
        "    try:\n",
        "        return \"\\n\\n\".join(str(part) for part in partition_pdf(file_path, languages=languages))\n",
        "    except FileNotFoundError:\n",
        "        logging.error(f\"PDF file not found: {file_path}\")\n",
        "    except Exception as e:\n",
        "        logging.error(f\"Error processing PDF {file_path}: {e}\")\n",
        "    return None\n",
        "\n",
        "def read_text(file_path):\n",
        "    \"\"\"Read text file content.\"\"\"\n",
        "    try:\n",
        "        with open(file_path, 'r', encoding='utf-8') as file:\n",
        "            return file.read()\n",
        "    except FileNotFoundError:\n",
        "        logging.error(f\"TXT file not found: {file_path}\")\n",
        "    except Exception as e:\n",
        "        logging.error(f\"Error reading TXT {file_path}: {e}\")\n",
        "    return None\n",
        "\n",
        "def get_data_pairs(base_path=\"data/in_context/\"):\n",
        "    \"\"\"Generate a dictionary of DocumentPair instances from PDF and TXT files, using the folder name as the key.\"\"\"\n",
        "    data_pairs = {}\n",
        "    directories = glob.glob(f\"{base_path}*/\")\n",
        "    for directory in directories:\n",
        "        pdf_file = glob.glob(f\"{directory}*.pdf\")[0]\n",
        "        txt_file = glob.glob(f\"{directory}*.txt\")[0]\n",
        "        if os.path.exists(pdf_file) and os.path.exists(txt_file):\n",
        "            folder_name = os.path.basename(os.path.normpath(directory))\n",
        "            input_data = read_pdf(pdf_file)\n",
        "            output_data = read_text(txt_file)\n",
        "            if input_data and output_data:\n",
        "                data_pairs[folder_name] = DocumentPair(input_data, output_data)\n",
        "            else:\n",
        "                logging.warning(f\"Data not found for folder: {folder_name}\")\n",
        "        else:\n",
        "            logging.warning(f\"Missing files in folder: {directory}\")\n",
        "    return data_pairs"
      ]
    },
    {
      "cell_type": "code",
      "execution_count": 7,
      "metadata": {},
      "outputs": [
        {
          "name": "stderr",
          "output_type": "stream",
          "text": [
            "2024-04-26 14:32:02,074 - INFO - pikepdf C++ to Python logger bridge initialized\n"
          ]
        }
      ],
      "source": [
        "def format_prompt(input_text, output_text=''):\n",
        "    \"\"\"\n",
        "    Format a single input-output pair into a structured AI training prompt.\n",
        "    \"\"\"\n",
        "    return f\"Eingabe:\\n{input_text}\\n\\nAusgabe:\\n{output_text if output_text else ''}\"\n",
        "\n",
        "def create_base_prompt(data_pairs):\n",
        "    \"\"\"\n",
        "    Create a base prompt from all document pairs, used as the starting point for each new prompt.\n",
        "    \"\"\"\n",
        "    return '\\n'.join(format_prompt(pair.input, pair.output) for _, pair in data_pairs.items())\n",
        "\n",
        "\n",
        "def create_comprehensive_prompt(base_prompt, folder_path):\n",
        "    \"\"\"\n",
        "    Generate a single comprehensive prompt by appending the content of each new PDF found in the specified directory to the base prompt.\n",
        "    \"\"\"\n",
        "    pdf_paths = glob.glob(os.path.join(folder_path, '*.pdf'))\n",
        "    non_empty_contents = [content for path in pdf_paths if (content := read_pdf(path))]\n",
        "    all_pdf_text = format_prompt(' '.join(non_empty_contents))\n",
        "    return base_prompt + all_pdf_text\n",
        "\n",
        "\n",
        "# Main execution flow\n",
        "data_pairs = get_data_pairs(base_path=\"data/in_context/\")\n",
        "base_prompt = create_base_prompt(data_pairs)\n",
        "base_path = 'data/tagesordnung'\n",
        "comprehensive_prompts = [create_comprehensive_prompt(base_prompt, path) for path in glob.glob(os.path.join(base_path, '**'))]"
      ]
    },
    {
      "cell_type": "code",
      "execution_count": null,
      "metadata": {},
      "outputs": [],
      "source": []
    },
    {
      "cell_type": "code",
      "execution_count": 134,
      "metadata": {},
      "outputs": [],
      "source": [
        "def create_completion(prompt, gpt_model = \"gpt-3.5-turbo-0125\"):\n",
        "  completion = client.chat.completions.create(\n",
        "    messages=[\n",
        "        {\n",
        "            \"role\": \"user\",\n",
        "            \"content\": prompt,\n",
        "        }\n",
        "    ],\n",
        "    model=gpt_model,\n",
        "    temperature=0.1\n",
        "  )\n",
        "  return(completion.choices[0].message.content, completion.usage)"
      ]
    },
    {
      "cell_type": "code",
      "execution_count": 135,
      "metadata": {},
      "outputs": [
        {
          "data": {
            "text/plain": [
              "['\\nErstelle einen informativen Artikel basierend auf der vorliegenden Tagesordnung. \\nDer Artikel sollte den Titel der Veranstaltung hervorheben und die wesentlichen Punkte und Beschlüsse der Sitzung zusammenfassen. \\nZiel ist es, Lesern einen klaren Überblick über die Inhalte und Ergebnisse der Besprechung zu bieten.\\nSchreibe zuerst die Überschrift im Format (x. Sitzung des Ausschusses y), dann den Artikel, dann Zeit und Ort. Bleibe bitte im Markdown-Format.\\n\\nBeispiel:                 \\nEingabe:\\n20. Wahlperiode\\n\\nMitteilung\\n\\nDie 61. Sitzung des Ausschusses für Familie,\\n\\nSenioren, Frauen und Jugend \\x00ndet statt am Mittwoch, dem 13. März 2024, 11:00 Uhr Paul-Löbe-Haus Sitzungssaal: 2.200\\n\\nDie Sitzung ist öffentlich!\\n\\nTagesordnung\\n\\nTagesordnungspunkt 1\\n\\nFachgespräch zu den Lebensbedingungen von Kindern und Jugendlichen in Unterkünften für ge\\x00üchtete Menschen in Deutschland (Studie „Das ist nicht das Leben - Perspektiven von Kindern und Jugendlichen in Unterkünften für ge\\x00üchtete Kinder“)\\n\\nTagesordnungspunkt 2\\n\\nAntrag der Fraktion der CDU/CSU\\n\\nAuch im Ruhestand motiviert und mit Potential – Arbeitsmarkt für unsere pensionierten Soldaten öffnen\\n\\nBT-Drucksache 20/9140\\n\\n20. Wahlperiode\\n\\nAusschuss für Familie, Senioren, Frauen und Jugend\\n\\nBerlin, den 7. März 2024\\n\\nSekretariat Telefon: +49 30 227-37112\\n\\nSitzungssaal Telefon: +49 30 227-30313\\n\\nFederführend: Verteidigungsausschuss\\n\\nMitberatend: Ausschuss für Inneres und Heimat Rechtsausschuss Wirtschaftsausschuss Ausschuss für Arbeit und Soziales Ausschuss für Familie, Senioren, Frauen und Jugend\\n\\nBerichterstatter/in: Abg. N. N. [SPD] Abg. N. N. [CDU/CSU] Abg. N. N. [BÜNDNIS 90/DIE GRÜNEN] Abg. N. N. [FDP] Abg. N. N. [AfD] Abg. N. N. [Die Linke] Abg. Zaklin Nastic [BSW]\\n\\nFrist für die Abgabe der Voten: 13.03.2024\\n\\nSeite 1 von 5\\n\\nTagesordnungspunkt 3\\n\\nAntrag der Fraktion der CDU/CSU\\n\\nInnovation ermöglichen, Investitionen erleichtern - Agenda für Bürokratieabbau und bessere Rechtsetzung\\n\\nBT-Drucksache 20/8856\\n\\nHierzu wurde/wird verteilt: 20(6)87 Stellungnahme\\n\\n20. Wahlperiode\\n\\nTagesordnung 61. Sitzung\\n\\nAusschuss für Familie, Senioren, Frauen und Jugend\\n\\nFederführend: Rechtsausschuss\\n\\nMitberatend: Ausschuss für Wahlprüfung, Immunität und Geschäftsordnung Auswärtiger Ausschuss Ausschuss für Inneres und Heimat Sportausschuss Finanzausschuss Wirtschaftsausschuss Ausschuss für Ernährung und Landwirtschaft Ausschuss für Arbeit und Soziales Verteidigungsausschuss Ausschuss für Familie, Senioren, Frauen und Jugend Ausschuss für Gesundheit Verkehrsausschuss Ausschuss für Umwelt, Naturschutz, nukleare Sicherheit und Verbraucherschutz Ausschuss für Menschenrechte und humanitäre Hilfe Ausschuss für Bildung, Forschung und Technikfolgenabschätzung Ausschuss für wirtschaftliche Zusammenarbeit und Entwicklung Ausschuss für Tourismus Ausschuss für Kultur und Medien Ausschuss für Digitales Ausschuss für Wohnen, Stadtentwicklung, Bauwesen und Kommunen Ausschuss für Klimaschutz und Energie Ausschuss für die Angelegenheiten der Europäischen Union Haushaltsausschuss\\n\\nBerichterstatter/in: Abg. Jasmina Hostert [SPD] Abg. Paul Lehrieder [CDU/CSU] Abg. N. N. [BÜNDNIS 90/DIE GRÜNEN] Abg. N. N. [FDP] Abg. N. N. [AfD] Abg. N. N. [Die Linke] Abg. Zaklin Nastic [BSW]\\n\\nFrist für die Abgabe der Voten: 13.03.2024\\n\\nSeite 2 von 5\\n\\nTagesordnungspunkt 4\\n\\nAntrag der Fraktion der CDU/CSU\\n\\nArzneimittelversorgung sicherstellen - Versorgungssicherheit gewährleisten\\n\\nBT-Drucksache 20/9319\\n\\nTagesordnungspunkt 5\\n\\nAntrag der Abgeordneten Sebastian Münzenmaier, Marc Bernhard, Roger Beckamp, weiterer Abgeordneter und der Fraktion der AfD\\n\\nVom dänischen Umgang mit Parallelgesellschaften lernen – Strategische Wende in der Stadt- und Wohnungsbaupolitik einleiten\\n\\nBT-Drucksache 20/10372\\n\\n20. Wahlperiode\\n\\nTagesordnung 61. Sitzung\\n\\nAusschuss für Familie, Senioren, Frauen und Jugend\\n\\nFederführend: Ausschuss für Gesundheit\\n\\nMitberatend: Ausschuss für Inneres und Heimat Rechtsausschuss Wirtschaftsausschuss Ausschuss für Arbeit und Soziales Ausschuss für Familie, Senioren, Frauen und Jugend Ausschuss für Umwelt, Naturschutz, nukleare Sicherheit und Verbraucherschutz Ausschuss für Bildung, Forschung und Technikfolgenabschätzung Ausschuss für Digitales Ausschuss für Wohnen, Stadtentwicklung, Bauwesen und Kommunen Ausschuss für die Angelegenheiten der Europäischen Union Haushaltsausschuss\\n\\nBerichterstatter/in: Abg. Sarah Lahrkamp [SPD] Abg. Anne Janssen [CDU/CSU] Abg. N. N. [BÜNDNIS 90/DIE GRÜNEN] Abg. N. N. [FDP] Abg. N. N. [AfD] Abg. N. N. [Die Linke] Abg. Zaklin Nastic [BSW]\\n\\nFrist für die Abgabe der Voten: 13.03.2024\\n\\nFederführend: Ausschuss für Wohnen, Stadtentwicklung, Bauwesen und Kommunen\\n\\nMitberatend: Ausschuss für Inneres und Heimat Rechtsausschuss Ausschuss für Arbeit und Soziales Ausschuss für Familie, Senioren, Frauen und Jugend Ausschuss für Bildung, Forschung und Technikfolgenabschätzung Ausschuss für Kultur und Medien Haushaltsausschuss\\n\\nBerichterstatter/in: Abg. N. N. [SPD] Abg. N. N. [CDU/CSU] Abg. N. N. [BÜNDNIS 90/DIE GRÜNEN] Abg. N. N. [FDP] Abg. N. N. [AfD] Abg. N. N. [Die Linke] Abg. Zaklin Nastic [BSW]\\n\\nFrist für die Abgabe der Voten: 13.03.2024\\n\\nSeite 3 von 5\\n\\nTagesordnungspunkt 6\\n\\nAntrag der Abgeordneten Petr Bystron, Tino Chrupalla, Markus Frohnmaier, weiterer Abgeordneter und der Fraktion der AfD\\n\\nPartnerschaft mit den Visegrád-Staaten ausbauen – Abendländische Werte verteidigen, Europa neu denken, Wirtschaftskooperation vertiefen\\n\\nBT-Drucksache 20/8355\\n\\nTagesordnungspunkt 7\\n\\nAntrag der Abgeordneten Mariana Iris Harder- Kühnel, Martin Reichardt, Thomas Ehrhorn, weiterer Abgeordneter und der Fraktion der AfD\\n\\nKinderkopftuch als politisch-weltanschauliches Symbol – Verbot in öffentlichen Kindertages- einrichtungen und Schulen\\n\\nBT-Drucksache 20/9315\\n\\n20. Wahlperiode\\n\\nTagesordnung 61. Sitzung\\n\\nAusschuss für Familie, Senioren, Frauen und Jugend\\n\\nFederführend: Auswärtiger Ausschuss\\n\\nMitberatend: Wirtschaftsausschuss Ausschuss für Familie, Senioren, Frauen und Jugend Ausschuss für Menschenrechte und humanitäre Hilfe Ausschuss für Klimaschutz und Energie Ausschuss für die Angelegenheiten der Europäischen Union Haushaltsausschuss\\n\\nBerichterstatter/in: Abg. N. N. [SPD] Abg. N. N. [CDU/CSU] Abg. N. N. [BÜNDNIS 90/DIE GRÜNEN] Abg. N. N. [FDP] Abg. N. N. [AfD] Abg. N. N. [Die Linke] Abg. Zaklin Nastic [BSW]\\n\\nFrist für die Abgabe der Voten: 13.03.2024\\n\\nFederführend: Ausschuss für Inneres und Heimat\\n\\nMitberatend: Rechtsausschuss Ausschuss für Familie, Senioren, Frauen und Jugend Ausschuss für Menschenrechte und humanitäre Hilfe Ausschuss für Bildung, Forschung und Technikfolgenabschätzung Ausschuss für Kultur und Medien\\n\\nBerichterstatter/in: Abg. Daniel Baldy [SPD] Abg. Dr. Katja Leikert [CDU/CSU] Abg. N. N. [BÜNDNIS 90/DIE GRÜNEN] Abg. N. N. [FDP] Abg. N. N. [AfD] Abg. N. N. [Die Linke] Abg. Zaklin Nastic [BSW]\\n\\nFrist für die Abgabe der Voten: 13.03.2024\\n\\nSeite 4 von 5\\n\\nTagesordnungspunkt 8\\n\\nUnterrichtung durch die Bundesregierung\\n\\nBericht zum Anerkennungsgesetz 2023\\n\\nBT-Drucksache 20/10350\\n\\nTagesordnungspunkt 9\\n\\nVerschiedenes\\n\\nUlrike Bahr, MdB Vorsitzende\\n\\n20. Wahlperiode\\n\\nTagesordnung 61. Sitzung\\n\\nAusschuss für Familie, Senioren, Frauen und Jugend\\n\\nFederführend: Ausschuss für Bildung, Forschung und Technikfolgenabschätzung\\n\\nMitberatend: Ausschuss für Inneres und Heimat Rechtsausschuss Ausschuss für Arbeit und Soziales Ausschuss für Familie, Senioren, Frauen und Jugend\\n\\nBerichterstatter/in: Abg. N. N. [SPD] Abg. N. N. [CDU/CSU] Abg. N. N. [BÜNDNIS 90/DIE GRÜNEN] Abg. N. N. [FDP] Abg. N. N. [AfD] Abg. N. N. [Die Linke] Abg. Zaklin Nastic [BSW]\\n\\nFrist für die Abgabe der Voten: 13.03.2024\\n\\nSeite 5 von 5\\n\\nAusgabe:\\nFamilie\\n\\n# 61. Sitzung des Ausschusses für Familie, Senioren, Frauen und Jugend\\n\\nDer **Ausschuss für Familie, Senioren, Frauen und Jugend** ist am **Mittwoch, 13. März 2024,** zu einer öffentlichen Sitzung zusammengekommen. Auf der Tagesordnung des Gremiums stand unter anderem ein Fachgespräch zu den **Lebensbedingungen von Kindern und Jugendlichen in Unterkünften für geflüchtete Menschen** in Deutschland. Grundlage des Gesprächs war eine gemeinsame Studie von Unicef Deutschland und dem Deutschen Institut für Menschenrechte mit dem Titel „Das ist nicht das Leben – Perspektiven von Kindern und Jugendlichen in Unterkünften für geflüchtete Kinder“. (13.03.2024)\\n\\n**Zeit:**  \\nMittwoch, 13. März 2024,  \\n11 Uhr  \\n\\n**Ort:** Berlin, Paul-Löbe-Haus, Sitzungssaal 2.200\\nEingabe:\\n20. Wahlperiode\\n\\nAusschuss für Bildung, Forschung und Technikfolgenabschätzung\\n\\nMitteilung\\n\\nBerlin, den 12. März 2024\\n\\nDie 66. Sitzung des Ausschusses für Bildung, Forschung und Technikfolgenabschätzung \\x00ndet statt am Mittwoch, dem 13. März 2024, 9:30 Uhr Marie-Elisabeth-Lüders-Haus - Anhörungssaal - (3.101)\\n\\nSekretariat Telefon: +49 30 227 - 32861\\n\\nSitzungssaal Telefon: +49 30 227 - 31487 Fax: +49 30 227 - 30487\\n\\nPräsenz- und WebEx-Videokonferenz -\\n\\nAchtung! Abweichender Sitzungsort!\\n\\nTagesordnung - Öffentliche Ausschussberatung\\n\\nTagesordnungspunkt 1\\n\\nWahl der/des stellvertretenden Ausschussvorsitzenden\\n\\nTagesordnungspunkt 2\\n\\na) Gespräch mit der Expertenkommission Forschung\\n\\nund Innovation (EFI) zur Vorstellung des EFI- Gutachtens 2024 unter Vorsitz von Herrn Prof. Dr. Uwe Cantner\\n\\nSelbstbefassung 20(18)SB-74\\n\\nBeginn ca. 11:20 Uhr\\n\\nBerichterstatter/in: Abg. Holger Mann [SPD] Abg. Thomas Jarzombek [CDU/CSU] Abg. Dr. Anna Christmann [BÜNDNIS 90/DIE GRÜNEN] Abg. Dr. Stephan Seiter [FDP] Abg. Dr. Michael Kaufmann [AfD] Abg. Dr. Petra Sitte [Die Linke] Abg. Ali Al-Dailami [BSW]\\n\\n20. Wahlperiode\\n\\nSeite 1 von 11\\n\\nb) Unterrichtung durch die Bundesregierung\\n\\nGutachten zu Forschung, Innovation und technologischer Leistungsfähigkeit Deutschlands 2023\\n\\nBT-Drucksache 20/7530\\n\\nTagesordnungspunkt 3\\n\\na) Antrag der Fraktionen SPD, BÜNDNIS 90/DIE\\n\\nGRÜNEN und FDP\\n\\nEine interessen- und wertegeleitete Internationalisierung von Wissenschaft und Hochschulbildung\\n\\nBT-Drucksache 20/9312\\n\\nHierzu wurde verteilt: 20(18)212 Schriftliche Stellungnahme\\n\\n20. Wahlperiode\\n\\nTagesordnung 66. Sitzung\\n\\nAusschuss für Bildung, Forschung und Technikfolgenabschätzung\\n\\nFederführend: Ausschuss für Bildung, Forschung und Technikfolgenabschätzung\\n\\nMitberatend: Finanzausschuss Wirtschaftsausschuss Ausschuss für Ernährung und Landwirtschaft Verteidigungsausschuss Ausschuss für Umwelt, Naturschutz, nukleare Sicherheit und Verbraucherschutz Ausschuss für Menschenrechte und humanitäre Hilfe Ausschuss für Digitales\\n\\nBerichterstatter/in: Abg. Holger Mann [SPD] Abg. Thomas Jarzombek [CDU/CSU] Abg. Dr. Anna Christmann [BÜNDNIS 90/DIE GRÜNEN] Abg. Dr. Stephan Seiter [FDP] Abg. Dr. Michael Kaufmann [AfD] Abg. Dr. Petra Sitte [Die Linke] Abg. Ali Al-Dailami [BSW]\\n\\nVoten angefordert für den: 13.03.2024\\n\\nFederführend: Ausschuss für Bildung, Forschung und Technikfolgenabschätzung\\n\\nMitberatend: Auswärtiger Ausschuss Ausschuss für Inneres und Heimat Rechtsausschuss Ausschuss für wirtschaftliche Zusammenarbeit und Entwicklung Ausschuss für Kultur und Medien Ausschuss für die Angelegenheiten der Europäischen Union\\n\\nBerichterstatter/in: Abg. Ruppert Stüwe [SPD] Abg. Alexander Föhr [CDU/CSU] Abg. Kai Gehring [BÜNDNIS 90/DIE GRÜNEN] Abg. Dr. Stephan Seiter [FDP] Abg. Dr. Marc Jongen [AfD] Abg. Nicole Gohlke [Die Linke] Abg. Ali Al-Dailami [BSW]\\n\\nVoten angefordert für den: 13.03.2024\\n\\nSeite 2 von 11\\n\\nb) Antrag der Fraktion der CDU/CSU\\n\\nRückzug der Bundesregierung aus der internationalen Zusammenarbeit in Wissenschaft und Forschung stoppen – Deutsche Vermittlerorganisationen stärken\\n\\nBT-Drucksache 20/9308\\n\\nc) Antrag der Abgeordneten Dr. Marc Jongen, Nicole\\n\\nHöchst, Dr. Götz Frömming, weiterer Abgeordneter und der Fraktion der AfD\\n\\nDie Abwanderung hochquali\\x00zierter deutscher Wissenschaftler statistisch erfassen und gegensteuernd tätig werden\\n\\nBT-Drucksache 20/6991\\n\\nd) Unterrichtung durch die Bundesregierung\\n\\nBericht der Bundesregierung zur internationalen Kooperation in Bildung, Wissenschaft und Forschung 2019 bis 2020\\n\\nBT-Drucksache 20/45\\n\\n20. Wahlperiode\\n\\nTagesordnung 66. Sitzung\\n\\nAusschuss für Bildung, Forschung und Technikfolgenabschätzung\\n\\nFederführend: Ausschuss für Bildung, Forschung und Technikfolgenabschätzung\\n\\nMitberatend: Auswärtiger Ausschuss Haushaltsausschuss\\n\\nBerichterstatter/in: Abg. Ruppert Stüwe [SPD] Abg. Alexander Föhr [CDU/CSU] Abg. Kai Gehring [BÜNDNIS 90/DIE GRÜNEN] Abg. Dr. Stephan Seiter [FDP] Abg. Dr. Marc Jongen [AfD] Abg. Nicole Gohlke [Die Linke] Abg. Ali Al-Dailami [BSW]\\n\\nVoten angefordert für den: 13.03.2024\\n\\nFederführend: Ausschuss für Bildung, Forschung und Technikfolgenabschätzung\\n\\nMitberatend: Ausschuss für Arbeit und Soziales\\n\\nBerichterstatter/in: Abg. Ruppert Stüwe [SPD] Abg. Alexander Föhr [CDU/CSU] Abg. Kai Gehring [BÜNDNIS 90/DIE GRÜNEN] Abg. Dr. Stephan Seiter [FDP] Abg. Dr. Marc Jongen [AfD] Abg. Nicole Gohlke [Die Linke] Abg. Ali Al-Dailami [BSW]\\n\\nVoten angefordert für den: 13.03.2024\\n\\nFederführend: Ausschuss für Bildung, Forschung und Technikfolgenabschätzung\\n\\nMitberatend: Sportausschuss Ausschuss für Ernährung und Landwirtschaft Ausschuss für Digitales\\n\\nBerichterstatter/in: Abg. Ruppert Stüwe [SPD] Abg. Alexander Föhr [CDU/CSU] Abg. Kai Gehring [BÜNDNIS 90/DIE GRÜNEN] Abg. Dr. Stephan Seiter [FDP] Abg. Dr. Marc Jongen [AfD] Abg. Nicole Gohlke [Die Linke] Abg. Ali Al-Dailami [BSW]\\n\\nVoten angefordert für den: 13.03.2024\\n\\nSeite 3 von 11\\n\\nTagesordnungspunkt 4\\n\\nUnterrichtung durch die Bundesregierung\\n\\nBericht zum Anerkennungsgesetz 2023\\n\\nBT-Drucksache 20/10350\\n\\nTagesordnungspunkt 5\\n\\nAntrag der Abgeordneten Nicole Höchst, Dr. Götz Frömming, Dr. Marc Jongen, weiterer Abgeordneter und der Fraktion der AfD\\n\\nAkademische und beru\\x00iche Bildung gleichstellen – Unser Land braucht Meister\\n\\nBT-Drucksache 20/6611\\n\\n20. Wahlperiode\\n\\nTagesordnung 66. Sitzung\\n\\nAusschuss für Bildung, Forschung und Technikfolgenabschätzung\\n\\nFederführend: Ausschuss für Bildung, Forschung und Technikfolgenabschätzung\\n\\nMitberatend: Ausschuss für Inneres und Heimat Rechtsausschuss Ausschuss für Arbeit und Soziales Ausschuss für Familie, Senioren, Frauen und Jugend\\n\\nBerichterstatter/in: Abg. Jessica Rosenthal [SPD] Abg. Norbert Maria Altenkamp [CDU/CSU] Abg. Dr. Anja Reinalter [BÜNDNIS 90/DIE GRÜNEN] Abg. Friedhelm Boginski [FDP] Abg. Nicole Höchst [AfD] Abg. Nicole Gohlke [Die Linke] Abg. Ali Al-Dailami [BSW]\\n\\nVoten angefordert für den: 13.03.2024\\n\\nFederführend: Ausschuss für Bildung, Forschung und Technikfolgenabschätzung\\n\\nMitberatend: Wirtschaftsausschuss Ausschuss für Arbeit und Soziales Ausschuss für Digitales Haushaltsausschuss\\n\\nBerichterstatter/in: Abg. Jessica Rosenthal [SPD] Abg. Stephan Albani [CDU/CSU] Abg. Dr. Anja Reinalter [BÜNDNIS 90/DIE GRÜNEN] Abg. Friedhelm Boginski [FDP] Abg. Nicole Höchst [AfD] Abg. Nicole Gohlke [Die Linke] Abg. Ali Al-Dailami [BSW]\\n\\nVoten angefordert für den: 13.03.2024\\n\\nSeite 4 von 11\\n\\nTagesordnungspunkt 6\\n\\nAntrag der Fraktion der CDU/CSU\\n\\nInnovation ermöglichen, Investitionen erleichtern - Agenda für Bürokratieabbau und bessere Rechtsetzung\\n\\nBT-Drucksache 20/8856\\n\\nDazu liegt vor: 20(6)87 Stellungnahme\\n\\n20. Wahlperiode\\n\\nTagesordnung 66. Sitzung\\n\\nAusschuss für Bildung, Forschung und Technikfolgenabschätzung\\n\\nFederführend: Rechtsausschuss\\n\\nMitberatend: Ausschuss für Wahlprüfung, Immunität und Geschäftsordnung Auswärtiger Ausschuss Ausschuss für Inneres und Heimat Sportausschuss Finanzausschuss Wirtschaftsausschuss Ausschuss für Ernährung und Landwirtschaft Ausschuss für Arbeit und Soziales Verteidigungsausschuss Ausschuss für Familie, Senioren, Frauen und Jugend Ausschuss für Gesundheit Verkehrsausschuss Ausschuss für Umwelt, Naturschutz, nukleare Sicherheit und Verbraucherschutz Ausschuss für Menschenrechte und humanitäre Hilfe Ausschuss für Bildung, Forschung und Technikfolgenabschätzung Ausschuss für wirtschaftliche Zusammenarbeit und Entwicklung Ausschuss für Tourismus Ausschuss für Kultur und Medien Ausschuss für Digitales Ausschuss für Wohnen, Stadtentwicklung, Bauwesen und Kommunen Ausschuss für Klimaschutz und Energie Ausschuss für die Angelegenheiten der Europäischen Union Haushaltsausschuss\\n\\nBerichterstatter/in: Abg. Dr. Holger Becker [SPD] Abg. Thomas Jarzombek [CDU/CSU] Abg. Dr. Anna Christmann [BÜNDNIS 90/DIE GRÜNEN] Abg. Ria Schröder [FDP] Abg. Dr. Götz Frömming [AfD] Abg. Dr. Petra Sitte [Die Linke] Abg. Ali Al-Dailami [BSW]\\n\\nFrist für die Abgabe der Voten: 13.03.2024\\n\\nSeite 5 von 11\\n\\nTagesordnungspunkt 7\\n\\nAntrag der Abgeordneten Sebastian Münzenmaier, Marc Bernhard, Roger Beckamp, weiterer Abgeordneter und der Fraktion der AfD\\n\\nVom dänischen Umgang mit Parallelgesellschaften lernen – Strategische Wende in der Stadt- und Wohnungsbaupolitik einleiten\\n\\nBT-Drucksache 20/10372\\n\\nTagesordnungspunkt 8\\n\\nAntrag der Fraktion CDU/CSU\\n\\nPotenziale der Geothermie nutzen – Hürden abbauen, Risiken minimieren, Stromsektor entlasten\\n\\nBT-Drucksache 20/8210\\n\\n20. Wahlperiode\\n\\nTagesordnung 66. Sitzung\\n\\nAusschuss für Bildung, Forschung und Technikfolgenabschätzung\\n\\nFederführend: Ausschuss für Wohnen, Stadtentwicklung, Bauwesen und Kommunen\\n\\nMitberatend: Ausschuss für Inneres und Heimat Rechtsausschuss Ausschuss für Arbeit und Soziales Ausschuss für Familie, Senioren, Frauen und Jugend Ausschuss für Bildung, Forschung und Technikfolgenabschätzung Ausschuss für Kultur und Medien Haushaltsausschuss\\n\\nBerichterstatter/in: Abg. Ye-One Rhie [SPD] Abg. Monika Grütters [CDU/CSU] Abg. Marlene Schönberger [BÜNDNIS 90/DIE GRÜNEN] Abg. Ria Schröder [FDP] Abg. Martin Reichardt [AfD] Abg. Nicole Gohlke [Die Linke] Abg. Ali Al-Dailami [BSW]\\n\\nFrist für die Abgabe der Voten: 13.03.2024\\n\\nFederführend: Ausschuss für Klimaschutz und Energie\\n\\nMitberatend: Finanzausschuss Wirtschaftsausschuss Ausschuss für Ernährung und Landwirtschaft Ausschuss für Umwelt, Naturschutz, nukleare Sicherheit und Verbraucherschutz Ausschuss für Bildung, Forschung und Technikfolgenabschätzung Ausschuss für Wohnen, Stadtentwicklung, Bauwesen und Kommunen Haushaltsausschuss\\n\\nBerichterstatter/in: Abg. Ye-One Rhie [SPD] Abg. Gitta Connemann [CDU/CSU] Abg. Dr. Anna Christmann [BÜNDNIS 90/DIE GRÜNEN] Abg. Dr. Stephan Seiter [FDP] Abg. Dr. Michael Kaufmann [AfD] Abg. Nicole Gohlke [Die Linke] Abg. Ali Al-Dailami [BSW]\\n\\nFrist für die Abgabe der Voten: 13.03.2024\\n\\nSeite 6 von 11\\n\\nTagesordnungspunkt 9\\n\\nUnterrichtung durch die Bundesregierung\\n\\nJahresgutachten 2023/24 des Sachverständigenrates zur Begutachtung der gesamtwirtschaftlichen Entwicklung\\n\\nBT-Drucksache 20/9300\\n\\n20. Wahlperiode\\n\\nTagesordnung 66. Sitzung\\n\\nAusschuss für Bildung, Forschung und Technikfolgenabschätzung\\n\\nFederführend: Wirtschaftsausschuss\\n\\nMitberatend: Rechtsausschuss Finanzausschuss Ausschuss für Ernährung und Landwirtschaft Ausschuss für Arbeit und Soziales Verkehrsausschuss Ausschuss für Bildung, Forschung und Technikfolgenabschätzung Ausschuss für wirtschaftliche Zusammenarbeit und Entwicklung Ausschuss für Tourismus Ausschuss für Digitales Ausschuss für Klimaschutz und Energie Ausschuss für die Angelegenheiten der Europäischen Union Haushaltsausschuss\\n\\nBerichterstatter/in: Abg. Oliver Kaczmarek [SPD] Abg. Thomas Jarzombek [CDU/CSU] Abg. Dr. Anna Christmann [BÜNDNIS 90/DIE GRÜNEN] Abg. Dr. Stephan Seiter [FDP] Abg. Dr. Michael Kaufmann [AfD] Abg. Nicole Gohlke [Die Linke] Abg. Ali Al-Dailami [BSW]\\n\\nFrist für die Abgabe der Voten: 13.03.2024\\n\\nSeite 7 von 11\\n\\nTagesordnungspunkt 10\\n\\nUnterrichtung durch die Bundesregierung\\n\\nFünfter Bericht der Bundesregierung zum Aufbauinstrument „Next Generation EU“\\n\\nBT-Drucksache 20/8750\\n\\nTagesordnungspunkt 11\\n\\nAntrag der Abgeordneten Mariana Iris Harder- Kühnel, Martin Reichardt, Thomas Ehrhorn, weiterer Abgeordneter und der Fraktion der AfD\\n\\nKinderkopftuch als politisch-weltanschauliches Symbol – Verbot in öffentlichen Kindertageseinrichtungen und Schulen\\n\\nBT-Drucksache 20/9315\\n\\n20. Wahlperiode\\n\\nTagesordnung 66. Sitzung\\n\\nAusschuss für Bildung, Forschung und Technikfolgenabschätzung\\n\\nFederführend: Ausschuss für die Angelegenheiten der Europäischen Union\\n\\nMitberatend: Rechtsausschuss Finanzausschuss Wirtschaftsausschuss Ausschuss für Ernährung und Landwirtschaft Verkehrsausschuss Ausschuss für Bildung, Forschung und Technikfolgenabschätzung Ausschuss für Digitales Ausschuss für Klimaschutz und Energie Haushaltsausschuss\\n\\nBerichterstatter/in: Abg. Ruppert Stüwe [SPD] Abg. Dr. Ingeborg Gräßle [CDU/CSU] Abg. Kai Gehring [BÜNDNIS 90/DIE GRÜNEN] Abg. Dr. Stephan Seiter [FDP] Abg. Norbert Kleinwächter [AfD] Abg. Nicole Gohlke [Die Linke] Abg. Ali Al-Dailami [BSW]\\n\\nFrist für die Abgabe der Voten: 13.03.2024\\n\\nFederführend: Ausschuss für Inneres und Heimat\\n\\nMitberatend: Rechtsausschuss Ausschuss für Familie, Senioren, Frauen und Jugend Ausschuss für Menschenrechte und humanitäre Hilfe Ausschuss für Bildung, Forschung und Technikfolgenabschätzung Ausschuss für Kultur und Medien\\n\\nBerichterstatter/in: Abg. Martin Rabanus [SPD] Abg. Daniela Ludwig [CDU/CSU] Abg. Marlene Schönberger [BÜNDNIS 90/DIE GRÜNEN] Abg. Peter Heidt [FDP] Abg. Dr. Götz Frömming [AfD] Abg. Nicole Gohlke [Die Linke] Abg. Ali Al-Dailami [BSW]\\n\\nFrist für die Abgabe der Voten: 13.03.2024\\n\\nSeite 8 von 11\\n\\nTagesordnungspunkt 12\\n\\nAntrag der Fraktion der CDU/CSU\\n\\nArzneimittelversorgung sicherstellen - Versorgungssicherheit gewährleisten\\n\\nBT-Drucksache 20/9319\\n\\n20. Wahlperiode\\n\\nTagesordnung 66. Sitzung\\n\\nAusschuss für Bildung, Forschung und Technikfolgenabschätzung\\n\\nFederführend: Ausschuss für Gesundheit\\n\\nMitberatend: Ausschuss für Inneres und Heimat Rechtsausschuss Wirtschaftsausschuss Ausschuss für Arbeit und Soziales Ausschuss für Familie, Senioren, Frauen und Jugend Ausschuss für Umwelt, Naturschutz, nukleare Sicherheit und Verbraucherschutz Ausschuss für Bildung, Forschung und Technikfolgenabschätzung Ausschuss für Digitales Ausschuss für Wohnen, Stadtentwicklung, Bauwesen und Kommunen Ausschuss für die Angelegenheiten der Europäischen Union Haushaltsausschuss\\n\\nBerichterstatter/in: Abg. Ruppert Stüwe [SPD] Abg. Stephan Albani [CDU/CSU] Abg. Laura Kraft [BÜNDNIS 90/DIE GRÜNEN] Abg. Maximilian Funke-Kaiser [FDP] Abg. Dr. Götz Frömming [AfD] Abg. Nicole Gohlke [Die Linke] Abg. Ali Al-Dailami [BSW]\\n\\nFrist für die Abgabe der Voten: 13.03.2024\\n\\nSeite 9 von 11\\n\\nTagesordnungspunkt 13\\n\\nAntrag der Fraktion der CDU/CSU\\n\\nKapitalmarkt für Kleinanleger attraktiver machen\\n\\nBT-Drucksache 20/9496\\n\\n20. Wahlperiode\\n\\nTagesordnung 66. Sitzung\\n\\nAusschuss für Bildung, Forschung und Technikfolgenabschätzung\\n\\nFederführend: Finanzausschuss\\n\\nMitberatend: Rechtsausschuss Wirtschaftsausschuss Ausschuss für Arbeit und Soziales Ausschuss für Umwelt, Naturschutz, nukleare Sicherheit und Verbraucherschutz Ausschuss für Bildung, Forschung und Technikfolgenabschätzung Ausschuss für die Angelegenheiten der Europäischen Union\\n\\nBerichterstatter/in: Abg. Ye-One Rhie [SPD] Abg. Thomas Jarzombek [CDU/CSU] Abg. Dr. Anna Christmann [BÜNDNIS 90/DIE GRÜNEN] Abg. Ria Schröder [FDP] Abg. Norbert Kleinwächter [AfD] Abg. Nicole Gohlke [Die Linke] Abg. Ali Al-Dailami [BSW]\\n\\nFrist für die Abgabe der Voten: 13.03.2024\\n\\nSeite 10 von 11\\n\\nTagesordnungspunkt 14\\n\\nUnterrichtung durch die Bundesregierung\\n\\nJahreswirtschaftsbericht 2024 der Bundesregierung\\n\\nBT-Drucksache 20/10415\\n\\nKai Gehring, MdB Vorsitzender\\n\\n20. Wahlperiode\\n\\nTagesordnung 66. Sitzung\\n\\nAusschuss für Bildung, Forschung und Technikfolgenabschätzung\\n\\nFederführend: Wirtschaftsausschuss\\n\\nMitberatend: Rechtsausschuss Finanzausschuss Ausschuss für Ernährung und Landwirtschaft Ausschuss für Arbeit und Soziales Verkehrsausschuss Ausschuss für Bildung, Forschung und Technikfolgenabschätzung Ausschuss für wirtschaftliche Zusammenarbeit und Entwicklung Ausschuss für Tourismus Ausschuss für Digitales Ausschuss für Klimaschutz und Energie Ausschuss für die Angelegenheiten der Europäischen Union Haushaltsausschuss\\n\\nBerichterstatter/in: Abg. Oliver Kaczmarek [SPD] Abg. Thomas Jarzombek [CDU/CSU] Abg. Dr. Anna Christmann [BÜNDNIS 90/DIE GRÜNEN] Abg. Dr. Stephan Seiter [FDP] Abg. Nicole Höchst [AfD] Abg. Nicole Gohlke [Die Linke] Abg. Ali Al-Dailami [BSW]\\n\\nFrist für die Abgabe der Voten: 13.03.2024\\n\\nSeite 11 von 11 20. Wahlperiode\\n\\n1. Ergänzungsmitteilung\\n\\nDie Tagesordnung der 66. Sitzung des Ausschusses\\n\\nfür Bildung, Forschung und Technikfolgenabschätzung am Mittwoch, dem 13. März 2024, 9:30 Uhr Marie-Elisabeth-Lüders-Haus - Anhörungssaal - (3.101)\\n\\nwird um folgenden Tagesordnungspunkt ergänzt:\\n\\nAchtung! Abweichender Sitzungsort!\\n\\nTagesordnungspunkt 15\\n\\nAntrag der Abgeordneten Martin Reichardt, Mariana Iris Harder-Kühnel, Gereon Bollmann, weiterer Abgeordneter und der Fraktion der AfD\\n\\nGegen jede Form des Rassismus, auch der anti- weißen Diskriminierung in Deutschland\\n\\nBT-Drucksache 20/10367\\n\\nKai Gehring, MdB Vorsitzender\\n\\n20. Wahlperiode\\n\\nAusschuss für Bildung, Forschung und Technikfolgenabschätzung\\n\\nBerlin, den 11. März 2024\\n\\nSekretariat Telefon: +49 30 227 - 32861\\n\\nSitzungssaal Telefon: +49 30 227 - 31487 Fax: +49 30 227 - 30487\\n\\nFederführend: Ausschuss für Familie, Senioren, Frauen und Jugend\\n\\nMitberatend: Ausschuss für Inneres und Heimat Rechtsausschuss Ausschuss für Bildung, Forschung und Technikfolgenabschätzung Ausschuss für Kultur und Medien\\n\\nBerichterstatter/in: Abg. Maja Wallstein [SPD] Abg. Monika Grütters [CDU/CSU] Abg. Marlene Schönberger [BÜNDNIS 90/DIE GRÜNEN] Abg. Peter Heidt [FDP] Abg. Martin Reichardt [AfD] Abg. Nicole Gohlke [Die Linke] Abg. Ali Al-Dailami [BSW]\\n\\nFrist für die Abgabe der Voten: 13.03.2024\\n\\nSeite 1 von 1\\n\\nAusgabe:\\n\\n\\nÜberschrift:\\nArtikel:\\nZeit:\\nOrt:\\n---\\n',\n",
              " '\\nErstelle einen informativen Artikel basierend auf der vorliegenden Tagesordnung. \\nDer Artikel sollte den Titel der Veranstaltung hervorheben und die wesentlichen Punkte und Beschlüsse der Sitzung zusammenfassen. \\nZiel ist es, Lesern einen klaren Überblick über die Inhalte und Ergebnisse der Besprechung zu bieten.\\nSchreibe zuerst die Überschrift im Format (x. Sitzung des Ausschusses y), dann den Artikel, dann Zeit und Ort. Bleibe bitte im Markdown-Format.\\n\\nBeispiel:                 \\nEingabe:\\n20. Wahlperiode\\n\\nMitteilung\\n\\nDie 61. Sitzung des Ausschusses für Familie,\\n\\nSenioren, Frauen und Jugend \\x00ndet statt am Mittwoch, dem 13. März 2024, 11:00 Uhr Paul-Löbe-Haus Sitzungssaal: 2.200\\n\\nDie Sitzung ist öffentlich!\\n\\nTagesordnung\\n\\nTagesordnungspunkt 1\\n\\nFachgespräch zu den Lebensbedingungen von Kindern und Jugendlichen in Unterkünften für ge\\x00üchtete Menschen in Deutschland (Studie „Das ist nicht das Leben - Perspektiven von Kindern und Jugendlichen in Unterkünften für ge\\x00üchtete Kinder“)\\n\\nTagesordnungspunkt 2\\n\\nAntrag der Fraktion der CDU/CSU\\n\\nAuch im Ruhestand motiviert und mit Potential – Arbeitsmarkt für unsere pensionierten Soldaten öffnen\\n\\nBT-Drucksache 20/9140\\n\\n20. Wahlperiode\\n\\nAusschuss für Familie, Senioren, Frauen und Jugend\\n\\nBerlin, den 7. März 2024\\n\\nSekretariat Telefon: +49 30 227-37112\\n\\nSitzungssaal Telefon: +49 30 227-30313\\n\\nFederführend: Verteidigungsausschuss\\n\\nMitberatend: Ausschuss für Inneres und Heimat Rechtsausschuss Wirtschaftsausschuss Ausschuss für Arbeit und Soziales Ausschuss für Familie, Senioren, Frauen und Jugend\\n\\nBerichterstatter/in: Abg. N. N. [SPD] Abg. N. N. [CDU/CSU] Abg. N. N. [BÜNDNIS 90/DIE GRÜNEN] Abg. N. N. [FDP] Abg. N. N. [AfD] Abg. N. N. [Die Linke] Abg. Zaklin Nastic [BSW]\\n\\nFrist für die Abgabe der Voten: 13.03.2024\\n\\nSeite 1 von 5\\n\\nTagesordnungspunkt 3\\n\\nAntrag der Fraktion der CDU/CSU\\n\\nInnovation ermöglichen, Investitionen erleichtern - Agenda für Bürokratieabbau und bessere Rechtsetzung\\n\\nBT-Drucksache 20/8856\\n\\nHierzu wurde/wird verteilt: 20(6)87 Stellungnahme\\n\\n20. Wahlperiode\\n\\nTagesordnung 61. Sitzung\\n\\nAusschuss für Familie, Senioren, Frauen und Jugend\\n\\nFederführend: Rechtsausschuss\\n\\nMitberatend: Ausschuss für Wahlprüfung, Immunität und Geschäftsordnung Auswärtiger Ausschuss Ausschuss für Inneres und Heimat Sportausschuss Finanzausschuss Wirtschaftsausschuss Ausschuss für Ernährung und Landwirtschaft Ausschuss für Arbeit und Soziales Verteidigungsausschuss Ausschuss für Familie, Senioren, Frauen und Jugend Ausschuss für Gesundheit Verkehrsausschuss Ausschuss für Umwelt, Naturschutz, nukleare Sicherheit und Verbraucherschutz Ausschuss für Menschenrechte und humanitäre Hilfe Ausschuss für Bildung, Forschung und Technikfolgenabschätzung Ausschuss für wirtschaftliche Zusammenarbeit und Entwicklung Ausschuss für Tourismus Ausschuss für Kultur und Medien Ausschuss für Digitales Ausschuss für Wohnen, Stadtentwicklung, Bauwesen und Kommunen Ausschuss für Klimaschutz und Energie Ausschuss für die Angelegenheiten der Europäischen Union Haushaltsausschuss\\n\\nBerichterstatter/in: Abg. Jasmina Hostert [SPD] Abg. Paul Lehrieder [CDU/CSU] Abg. N. N. [BÜNDNIS 90/DIE GRÜNEN] Abg. N. N. [FDP] Abg. N. N. [AfD] Abg. N. N. [Die Linke] Abg. Zaklin Nastic [BSW]\\n\\nFrist für die Abgabe der Voten: 13.03.2024\\n\\nSeite 2 von 5\\n\\nTagesordnungspunkt 4\\n\\nAntrag der Fraktion der CDU/CSU\\n\\nArzneimittelversorgung sicherstellen - Versorgungssicherheit gewährleisten\\n\\nBT-Drucksache 20/9319\\n\\nTagesordnungspunkt 5\\n\\nAntrag der Abgeordneten Sebastian Münzenmaier, Marc Bernhard, Roger Beckamp, weiterer Abgeordneter und der Fraktion der AfD\\n\\nVom dänischen Umgang mit Parallelgesellschaften lernen – Strategische Wende in der Stadt- und Wohnungsbaupolitik einleiten\\n\\nBT-Drucksache 20/10372\\n\\n20. Wahlperiode\\n\\nTagesordnung 61. Sitzung\\n\\nAusschuss für Familie, Senioren, Frauen und Jugend\\n\\nFederführend: Ausschuss für Gesundheit\\n\\nMitberatend: Ausschuss für Inneres und Heimat Rechtsausschuss Wirtschaftsausschuss Ausschuss für Arbeit und Soziales Ausschuss für Familie, Senioren, Frauen und Jugend Ausschuss für Umwelt, Naturschutz, nukleare Sicherheit und Verbraucherschutz Ausschuss für Bildung, Forschung und Technikfolgenabschätzung Ausschuss für Digitales Ausschuss für Wohnen, Stadtentwicklung, Bauwesen und Kommunen Ausschuss für die Angelegenheiten der Europäischen Union Haushaltsausschuss\\n\\nBerichterstatter/in: Abg. Sarah Lahrkamp [SPD] Abg. Anne Janssen [CDU/CSU] Abg. N. N. [BÜNDNIS 90/DIE GRÜNEN] Abg. N. N. [FDP] Abg. N. N. [AfD] Abg. N. N. [Die Linke] Abg. Zaklin Nastic [BSW]\\n\\nFrist für die Abgabe der Voten: 13.03.2024\\n\\nFederführend: Ausschuss für Wohnen, Stadtentwicklung, Bauwesen und Kommunen\\n\\nMitberatend: Ausschuss für Inneres und Heimat Rechtsausschuss Ausschuss für Arbeit und Soziales Ausschuss für Familie, Senioren, Frauen und Jugend Ausschuss für Bildung, Forschung und Technikfolgenabschätzung Ausschuss für Kultur und Medien Haushaltsausschuss\\n\\nBerichterstatter/in: Abg. N. N. [SPD] Abg. N. N. [CDU/CSU] Abg. N. N. [BÜNDNIS 90/DIE GRÜNEN] Abg. N. N. [FDP] Abg. N. N. [AfD] Abg. N. N. [Die Linke] Abg. Zaklin Nastic [BSW]\\n\\nFrist für die Abgabe der Voten: 13.03.2024\\n\\nSeite 3 von 5\\n\\nTagesordnungspunkt 6\\n\\nAntrag der Abgeordneten Petr Bystron, Tino Chrupalla, Markus Frohnmaier, weiterer Abgeordneter und der Fraktion der AfD\\n\\nPartnerschaft mit den Visegrád-Staaten ausbauen – Abendländische Werte verteidigen, Europa neu denken, Wirtschaftskooperation vertiefen\\n\\nBT-Drucksache 20/8355\\n\\nTagesordnungspunkt 7\\n\\nAntrag der Abgeordneten Mariana Iris Harder- Kühnel, Martin Reichardt, Thomas Ehrhorn, weiterer Abgeordneter und der Fraktion der AfD\\n\\nKinderkopftuch als politisch-weltanschauliches Symbol – Verbot in öffentlichen Kindertages- einrichtungen und Schulen\\n\\nBT-Drucksache 20/9315\\n\\n20. Wahlperiode\\n\\nTagesordnung 61. Sitzung\\n\\nAusschuss für Familie, Senioren, Frauen und Jugend\\n\\nFederführend: Auswärtiger Ausschuss\\n\\nMitberatend: Wirtschaftsausschuss Ausschuss für Familie, Senioren, Frauen und Jugend Ausschuss für Menschenrechte und humanitäre Hilfe Ausschuss für Klimaschutz und Energie Ausschuss für die Angelegenheiten der Europäischen Union Haushaltsausschuss\\n\\nBerichterstatter/in: Abg. N. N. [SPD] Abg. N. N. [CDU/CSU] Abg. N. N. [BÜNDNIS 90/DIE GRÜNEN] Abg. N. N. [FDP] Abg. N. N. [AfD] Abg. N. N. [Die Linke] Abg. Zaklin Nastic [BSW]\\n\\nFrist für die Abgabe der Voten: 13.03.2024\\n\\nFederführend: Ausschuss für Inneres und Heimat\\n\\nMitberatend: Rechtsausschuss Ausschuss für Familie, Senioren, Frauen und Jugend Ausschuss für Menschenrechte und humanitäre Hilfe Ausschuss für Bildung, Forschung und Technikfolgenabschätzung Ausschuss für Kultur und Medien\\n\\nBerichterstatter/in: Abg. Daniel Baldy [SPD] Abg. Dr. Katja Leikert [CDU/CSU] Abg. N. N. [BÜNDNIS 90/DIE GRÜNEN] Abg. N. N. [FDP] Abg. N. N. [AfD] Abg. N. N. [Die Linke] Abg. Zaklin Nastic [BSW]\\n\\nFrist für die Abgabe der Voten: 13.03.2024\\n\\nSeite 4 von 5\\n\\nTagesordnungspunkt 8\\n\\nUnterrichtung durch die Bundesregierung\\n\\nBericht zum Anerkennungsgesetz 2023\\n\\nBT-Drucksache 20/10350\\n\\nTagesordnungspunkt 9\\n\\nVerschiedenes\\n\\nUlrike Bahr, MdB Vorsitzende\\n\\n20. Wahlperiode\\n\\nTagesordnung 61. Sitzung\\n\\nAusschuss für Familie, Senioren, Frauen und Jugend\\n\\nFederführend: Ausschuss für Bildung, Forschung und Technikfolgenabschätzung\\n\\nMitberatend: Ausschuss für Inneres und Heimat Rechtsausschuss Ausschuss für Arbeit und Soziales Ausschuss für Familie, Senioren, Frauen und Jugend\\n\\nBerichterstatter/in: Abg. N. N. [SPD] Abg. N. N. [CDU/CSU] Abg. N. N. [BÜNDNIS 90/DIE GRÜNEN] Abg. N. N. [FDP] Abg. N. N. [AfD] Abg. N. N. [Die Linke] Abg. Zaklin Nastic [BSW]\\n\\nFrist für die Abgabe der Voten: 13.03.2024\\n\\nSeite 5 von 5\\n\\nAusgabe:\\nFamilie\\n\\n# 61. Sitzung des Ausschusses für Familie, Senioren, Frauen und Jugend\\n\\nDer **Ausschuss für Familie, Senioren, Frauen und Jugend** ist am **Mittwoch, 13. März 2024,** zu einer öffentlichen Sitzung zusammengekommen. Auf der Tagesordnung des Gremiums stand unter anderem ein Fachgespräch zu den **Lebensbedingungen von Kindern und Jugendlichen in Unterkünften für geflüchtete Menschen** in Deutschland. Grundlage des Gesprächs war eine gemeinsame Studie von Unicef Deutschland und dem Deutschen Institut für Menschenrechte mit dem Titel „Das ist nicht das Leben – Perspektiven von Kindern und Jugendlichen in Unterkünften für geflüchtete Kinder“. (13.03.2024)\\n\\n**Zeit:**  \\nMittwoch, 13. März 2024,  \\n11 Uhr  \\n\\n**Ort:** Berlin, Paul-Löbe-Haus, Sitzungssaal 2.200\\nEingabe:\\n20. Wahlperiode\\n\\nMitteilung\\n\\nDie 62. Sitzung des Parlamentarischen Beirates für\\n\\nnachhaltige Entwicklung findet statt am Mittwoch, dem 24. April 2024, 17:00 Uhr, Paul-Löbe-Haus Sitzungssaal: E.700\\n\\nDie Sitzung wird live im Parlamentsfernsehen auf Kanal 3 übertragen.\\n\\nTagesordnung - Öffentliche Sitzung\\n\\nTagesordnungspunkt 1\\n\\nNachbereitung der Sitzung des Staatssekretärsausschusses für nachhaltige Entwicklung am 8. April 2024 zum Thema „Forschung, Innovation und Digitalisierung“ durch Dr. Jens Brandenburg, MdB, Parlamentarischer Staatssekretär bei der Bundesministerin für Bildung und Forschung\\n\\nTagesordnungspunkt 2\\n\\nNachhaltigkeitsprüfungsbewertung - Beschlussfassung über die Votenliste\\n\\nAusschussdrucksache 20(26)... wird nachgereicht\\n\\n20. Wahlperiode\\n\\nParlamentarischer Beirat für nachhaltige Entwicklung\\n\\nBerlin, den 18. April 2024\\n\\nSekretariat Telefon: +49 30 227-31892\\n\\nSitzungssaal Telefon: +49 30 227-30309 Fax: +49 30 227-36354\\n\\nSeite 1 von 2\\n\\nTagesordnungspunkt 3\\n\\nBerichte aus den Berichterstattergruppen und zu zentralen Nachhaltigkeitsthemen in den Ausschussberatungen\\n\\nhier: Bericht aus dem Verteidigungs-Ausschuss Berichterstatter: Nils Gründer, MdB und/oder Volker Mayer-Lay, MdB\\n\\nTagesordnungspunkt 4\\n\\nVerschiedenes\\n\\nHelmut Kleebank, MdB Vorsitzender\\n\\n20. Wahlperiode\\n\\nTagesordnung 62. Sitzung\\n\\nParlamentarischer Beirat für nachhaltige Entwicklung\\n\\nSeite 2 von 2\\n\\nAusgabe:\\n\\n\\nÜberschrift:\\nArtikel:\\nZeit:\\nOrt:\\n---\\n']"
            ]
          },
          "execution_count": 135,
          "metadata": {},
          "output_type": "execute_result"
        }
      ],
      "source": [
        "\n",
        "input_prompts = [f\"\"\"\n",
        "Erstelle einen informativen Artikel basierend auf der vorliegenden Tagesordnung. \n",
        "Der Artikel sollte den Titel der Veranstaltung hervorheben und die wesentlichen Punkte und Beschlüsse der Sitzung zusammenfassen. \n",
        "Ziel ist es, Lesern einen klaren Überblick über die Inhalte und Ergebnisse der Besprechung zu bieten.\n",
        "Schreibe zuerst die Überschrift im Format (x. Sitzung des Ausschusses y), dann den Artikel, dann Zeit und Ort. Bleibe bitte im Markdown-Format.\n",
        "\n",
        "Beispiel:                 \n",
        "{prompt}\n",
        "\n",
        "Überschrift:\n",
        "Artikel:\n",
        "Zeit:\n",
        "Ort:\n",
        "---\n",
        "\"\"\" for prompt in comprehensive_prompts]\n",
        "input_prompts\n",
        "\n"
      ]
    },
    {
      "cell_type": "code",
      "execution_count": 130,
      "metadata": {
        "colab": {
          "base_uri": "https://localhost:8080/"
        },
        "id": "C2TSdgUKzNWq",
        "outputId": "cf0e7339-adf7-473d-8b0f-4b48e8fc1043"
      },
      "outputs": [
        {
          "name": "stderr",
          "output_type": "stream",
          "text": [
            "2024-04-23 10:55:57,647 - INFO - HTTP Request: POST https://api.openai.com/v1/chat/completions \"HTTP/1.1 200 OK\"\n",
            "2024-04-23 10:56:02,518 - INFO - HTTP Request: POST https://api.openai.com/v1/chat/completions \"HTTP/1.1 200 OK\"\n"
          ]
        }
      ],
      "source": [
        "#GPT 3.5\n",
        "outputs_gpt_three = [create_completion(input_prompt) for input_prompt in input_prompts]\n",
        "\n",
        "#GPT 4\n",
        "# outputs_gpt_four = [create_completion(input_prompt, gpt_model=\"gpt-4-turbo\") for input_prompt in input_prompts]\n"
      ]
    },
    {
      "cell_type": "code",
      "execution_count": 131,
      "metadata": {
        "id": "vGy1DENarJAe"
      },
      "outputs": [
        {
          "name": "stdout",
          "output_type": "stream",
          "text": [
            "GPT 3.5\n"
          ]
        },
        {
          "data": {
            "text/markdown": [
              "Bildung und Forschung\n",
              "\n",
              "# 66. Sitzung des Ausschusses für Bildung, Forschung und Technikfolgenabschätzung\n",
              "\n",
              "Der **Ausschuss für Bildung, Forschung und Technikfolgenabschätzung** hat am **Mittwoch, 13. März 2024,** eine öffentliche Sitzung abgehalten. Neben der Wahl der stellvertretenden Ausschussvorsitzenden stand ein Gespräch mit der Expertenkommission Forschung und Innovation (EFI) zur Vorstellung des EFI-Gutachtens 2024 unter Vorsitz von Herrn Prof. Dr. Uwe Cantner auf der Tagesordnung. Des Weiteren wurden Anträge zur Internationalisierung von Wissenschaft und Hochschulbildung sowie zur Stärkung der deutschen Vermittlerorganisationen in der internationalen Zusammenarbeit diskutiert. (13.03.2024)\n",
              "\n",
              "**Zeit:**  \n",
              "Mittwoch, 13. März 2024,  \n",
              "9:30 Uhr  \n",
              "\n",
              "**Ort:** Berlin, Marie-Elisabeth-Lüders-Haus, Anhörungssaal (3.101)"
            ],
            "text/plain": [
              "<IPython.core.display.Markdown object>"
            ]
          },
          "metadata": {},
          "output_type": "display_data"
        },
        {
          "name": "stdout",
          "output_type": "stream",
          "text": [
            "\n"
          ]
        },
        {
          "data": {
            "text/markdown": [
              "Nachhaltige Entwicklung\n",
              "\n",
              "# 62. Sitzung des Parlamentarischen Beirates für nachhaltige Entwicklung\n",
              "\n",
              "Der **Parlamentarische Beirat für nachhaltige Entwicklung** traf sich am **Mittwoch, 24. April 2024,** zu einer öffentlichen Sitzung im Paul-Löbe-Haus. Auf der Tagesordnung stand die Nachbereitung der Sitzung des Staatssekretärsausschusses für nachhaltige Entwicklung zum Thema „Forschung, Innovation und Digitalisierung“ durch Dr. Jens Brandenburg, MdB, Parlamentarischer Staatssekretär bei der Bundesministerin für Bildung und Forschung. Des Weiteren wurde über die Beschlussfassung der Votenliste zur Nachhaltigkeitsprüfungsbewertung diskutiert. (24.04.2024)\n",
              "\n",
              "**Zeit:**  \n",
              "Mittwoch, 24. April 2024,  \n",
              "17 Uhr  \n",
              "\n",
              "**Ort:** Berlin, Paul-Löbe-Haus, Sitzungssaal E.700"
            ],
            "text/plain": [
              "<IPython.core.display.Markdown object>"
            ]
          },
          "metadata": {},
          "output_type": "display_data"
        },
        {
          "name": "stdout",
          "output_type": "stream",
          "text": [
            "\n"
          ]
        }
      ],
      "source": [
        "from IPython.display import display, Markdown\n",
        "print(\"GPT 3.5\")\n",
        "for out in outputs_gpt_three:\n",
        "    display(Markdown(out[0]))\n",
        "    print(\"\")\n",
        "# print(\"GPT 4\")\n",
        "# for out in outputs_gpt_four:\n",
        "#     display(Markdown(out[0]))\n",
        "#     print(\"\")"
      ]
    },
    {
      "cell_type": "code",
      "execution_count": 132,
      "metadata": {},
      "outputs": [
        {
          "name": "stdout",
          "output_type": "stream",
          "text": [
            "The total cost of using GPT-3.5 Turbo for query 0 is: $0.004879\n",
            "The total cost of using GPT-3.5 Turbo for query 1 is: $0.002063\n",
            "The final cost for GPT-3.5 Turbo is: €0.006942\n"
          ]
        }
      ],
      "source": [
        "def calculate_cost(prompt_tokens, completion_tokens, rates):\n",
        "    \"\"\"Calculate the total cost of using GPT-3.5 or GPT-4 Turbo based on prompt and completion tokens.\"\"\"\n",
        "    cost_input = prompt_tokens * rates['input']\n",
        "    cost_output = completion_tokens * rates['output']\n",
        "    return cost_input + cost_output\n",
        "\n",
        "def process_outputs(outputs, rates, model_version):\n",
        "    \"\"\"Process each output, calculate and print the cost.\"\"\"\n",
        "    final_cost = 0\n",
        "    for i, out in enumerate(outputs):\n",
        "        prompt_tokens = out[1].prompt_tokens\n",
        "        completion_tokens = out[1].completion_tokens\n",
        "        total_cost = calculate_cost(prompt_tokens, completion_tokens, rates)\n",
        "        final_cost += total_cost\n",
        "        print(f\"The total cost of using {model_version} for query {i} is: ${total_cost:.6f}\")\n",
        "    print(f\"The final cost for {model_version} is: €{final_cost:.6f}\")\n",
        "\n",
        "# Rates for GPT-3.5 and GPT-4\n",
        "rates_gpt_three = {'input': 0.50 / 1_000_000, 'output': 1.50 / 1_000_000}\n",
        "rates_gpt_four = {'input': 10 / 1_000_000, 'output': 30 / 1_000_000}\n",
        "\n",
        "# Assuming outputs_gpt_three and outputs_gpt_four are lists of outputs\n",
        "process_outputs(outputs_gpt_three, rates_gpt_three, \"GPT-3.5 Turbo\")\n",
        "# process_outputs(outputs_gpt_four, rates_gpt_four, \"GPT-4 Turbo\")\n"
      ]
    },
    {
      "cell_type": "code",
      "execution_count": null,
      "metadata": {},
      "outputs": [],
      "source": []
    },
    {
      "cell_type": "code",
      "execution_count": null,
      "metadata": {},
      "outputs": [],
      "source": []
    }
  ],
  "metadata": {
    "colab": {
      "provenance": []
    },
    "kernelspec": {
      "display_name": "Python 3",
      "name": "python3"
    },
    "language_info": {
      "codemirror_mode": {
        "name": "ipython",
        "version": 3
      },
      "file_extension": ".py",
      "mimetype": "text/x-python",
      "name": "python",
      "nbconvert_exporter": "python",
      "pygments_lexer": "ipython3",
      "version": "3.11.4"
    }
  },
  "nbformat": 4,
  "nbformat_minor": 0
}
